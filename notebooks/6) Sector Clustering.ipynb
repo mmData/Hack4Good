{
 "cells": [
  {
   "cell_type": "markdown",
   "metadata": {},
   "source": [
    "# Cluster sectors"
   ]
  },
  {
   "cell_type": "markdown",
   "metadata": {},
   "source": [
    "Goal: explore whether sectors can be clustered into separate groups, by exploring the needs that households exhibit. In other words, we are interested to see whether households show needs in clusters of sectors. "
   ]
  },
  {
   "cell_type": "code",
   "execution_count": 1,
   "metadata": {
    "collapsed": true
   },
   "outputs": [],
   "source": [
    "import pandas as pd\n",
    "import numpy as np\n",
    "import matplotlib.pyplot as plt\n",
    "%matplotlib inline"
   ]
  },
  {
   "cell_type": "markdown",
   "metadata": {},
   "source": [
    "### Load datasets"
   ]
  },
  {
   "cell_type": "code",
   "execution_count": 2,
   "metadata": {
    "collapsed": true
   },
   "outputs": [],
   "source": [
    "severity = pd.read_csv('../data/processed/severity.csv')\n",
    "severity = severity.drop(['Unnamed: 0', '_uuid'], axis=1)\n",
    "features = severity.columns.values"
   ]
  },
  {
   "cell_type": "markdown",
   "metadata": {},
   "source": [
    "### 1) PCA on the features"
   ]
  },
  {
   "cell_type": "code",
   "execution_count": 3,
   "metadata": {
    "collapsed": true
   },
   "outputs": [],
   "source": [
    "X = severity.astype(np.float64).values  #(10378, 8)\n",
    "X = (X - np.mean(X, axis=0))/np.std(X, axis=0)\n",
    "\n",
    "from sklearn.decomposition import PCA\n",
    "pca = PCA()\n",
    "X_pca = pca.fit_transform(X) #PCA(n_components=3).fit_transform(X)\n",
    "eigenvalues = pca.explained_variance_\n",
    "eigenvectors = pca.components_"
   ]
  },
  {
   "cell_type": "code",
   "execution_count": 11,
   "metadata": {},
   "outputs": [
    {
     "data": {
      "text/plain": [
       "([<matplotlib.axis.XTick at 0x7f85101fdb70>,\n",
       "  <matplotlib.axis.XTick at 0x7f85101fdc88>,\n",
       "  <matplotlib.axis.XTick at 0x7f851019ac50>,\n",
       "  <matplotlib.axis.XTick at 0x7f85101a9e48>,\n",
       "  <matplotlib.axis.XTick at 0x7f85101ad518>,\n",
       "  <matplotlib.axis.XTick at 0x7f85101adba8>,\n",
       "  <matplotlib.axis.XTick at 0x7f85101b2278>,\n",
       "  <matplotlib.axis.XTick at 0x7f85101b2908>],\n",
       " <a list of 8 Text xticklabel objects>)"
      ]
     },
     "execution_count": 11,
     "metadata": {},
     "output_type": "execute_result"
    },
    {
     "data": {
      "image/png": "[encoded data removed]",
      "text/plain": [
       "<matplotlib.figure.Figure at 0x7f8510255710>"
      ]
     },
     "metadata": {
      "needs_background": "light"
     },
     "output_type": "display_data"
    }
   ],
   "source": [
    "# Plot sector weight in first n_pcs\n",
    "n_pcs = 3\n",
    "plt.figure(figsize=(10,1.5*n_pcs))\n",
    "for i in range(n_pcs):\n",
    "    plt.subplot(n_pcs,1,i+1)\n",
    "    plt.bar(range(8),eigenvectors[i])\n",
    "    plt.xticks([])\n",
    "plt.xticks(range(8),features)"
   ]
  },
  {
   "cell_type": "markdown",
   "metadata": {},
   "source": [
    "### 2) Feature agglomeration"
   ]
  },
  {
   "cell_type": "code",
   "execution_count": 12,
   "metadata": {},
   "outputs": [
    {
     "data": {
      "text/plain": [
       "(10378, 4)"
      ]
     },
     "execution_count": 12,
     "metadata": {},
     "output_type": "execute_result"
    }
   ],
   "source": [
    "from sklearn import cluster\n",
    "n_clusters = 4\n",
    "agglo = cluster.FeatureAgglomeration(n_clusters=n_clusters)\n",
    "agglo.fit(X)\n",
    "X_reduced = agglo.transform(X)\n",
    "labels = agglo.fit(X).labels_\n",
    "X_reduced.shape"
   ]
  },
  {
   "cell_type": "code",
   "execution_count": 13,
   "metadata": {},
   "outputs": [
    {
     "name": "stdout",
     "output_type": "stream",
     "text": [
      "['Nutrition' 'Education']\n",
      "['ERL' 'Food' 'Shelter/NFI']\n",
      "['WASH' 'Health']\n",
      "['Protection']\n"
     ]
    }
   ],
   "source": [
    "for i in range(n_clusters):\n",
    "    idx = np.where(labels==i)\n",
    "    print(features[idx])"
   ]
  },
  {
   "cell_type": "raw",
   "metadata": {},
   "source": [
    "                    ________________________________\n",
    "          __________|_________                     |\n",
    "    ______|______            |             ________|_________\n",
    " ___|___        |            |         ____|___        _____|_____\n",
    " |     |        |            |         |      |        |         |\n",
    "ERL  Food  Shelter/NFI  Protection   Wash  Health  Nutrition Education\n",
    "\n",
    "-----CLUSTER1---------  -CLUSTER2-   --CLUSTER3--  -----CLUSTER4-----"
   ]
  },
  {
   "cell_type": "code",
   "execution_count": null,
   "metadata": {
    "collapsed": true
   },
   "outputs": [],
   "source": []
  }
 ],
 "metadata": {
  "kernelspec": {
   "display_name": "Python 3",
   "language": "python",
   "name": "python3"
  },
  "language_info": {
   "codemirror_mode": {
    "name": "ipython",
    "version": 3
   },
   "file_extension": ".py",
   "mimetype": "text/x-python",
   "name": "python",
   "nbconvert_exporter": "python",
   "pygments_lexer": "ipython3",
   "version": "3.6.3"
  }
 },
 "nbformat": 4,
 "nbformat_minor": 2
}
