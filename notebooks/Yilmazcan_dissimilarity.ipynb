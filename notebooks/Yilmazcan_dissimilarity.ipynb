{
 "cells": [
  {
   "cell_type": "code",
   "execution_count": 1,
   "metadata": {},
   "outputs": [],
   "source": [
    "#Import Some Libraries\n",
    "import numpy as np\n",
    "import sklearn as skl\n",
    "import matplotlib.pylab as plt\n",
    "import pylab\n",
    "import pandas as pd\n",
    "from mpl_toolkits.mplot3d import Axes3D\n",
    "\n",
    "from sklearn.cluster import KMeans\n",
    "\n",
    "import scipy.linalg as la\n",
    "from mpl_toolkits.axes_grid1 import make_axes_locatable\n",
    "from matplotlib import ticker\n",
    "from numpy import linalg as LA\n",
    "from scipy.linalg import fractional_matrix_power\n",
    "from sklearn.cluster import KMeans\n",
    "from scipy.spatial import distance_matrix\n",
    "import matplotlib.cm as cm\n",
    "from sklearn.manifold import LocallyLinearEmbedding as SklearnLLE\n",
    "from sklearn.metrics import confusion_matrix\n",
    "from sklearn.metrics import pairwise_distances\n",
    "from scipy.stats import mode as mode\n",
    "from scipy.spatial.distance import pdist\n",
    "from scipy.spatial.distance import squareform\n",
    "\n",
    "# Fix randoom seed for reproducibility\n",
    "import random\n",
    "np.random.seed(42)"
   ]
  },
  {
   "cell_type": "code",
   "execution_count": 2,
   "metadata": {},
   "outputs": [
    {
     "name": "stderr",
     "output_type": "stream",
     "text": [
      "/anaconda3/envs/slt-ce/lib/python3.5/site-packages/ipykernel_launcher.py:7: FutureWarning: Method .as_matrix will be removed in a future version. Use .values instead.\n",
      "  import sys\n"
     ]
    }
   ],
   "source": [
    "# Prepare data\n",
    "demographic = pd.read_csv('../data/processed/demographic.csv')\n",
    "severity = pd.read_csv('../data/processed/severity.csv', index_col=0)\n",
    "severity = severity.drop('_uuid', axis =1 )\n",
    "features = demographic.columns \n",
    "X = demographic.astype(np.float64)\n",
    "X_arr = X.as_matrix()\n",
    "y = (severity >= 4).sum(axis=1)"
   ]
  },
  {
   "cell_type": "code",
   "execution_count": 7,
   "metadata": {},
   "outputs": [
    {
     "name": "stderr",
     "output_type": "stream",
     "text": [
      "/anaconda3/envs/slt-ce/lib/python3.5/site-packages/ipykernel_launcher.py:2: FutureWarning: Method .as_matrix will be removed in a future version. Use .values instead.\n",
      "  \n"
     ]
    }
   ],
   "source": [
    "#X.head()\n",
    "severity_arr = severity.as_matrix()\n",
    "severity_arr = severity_arr.T"
   ]
  },
  {
   "cell_type": "code",
   "execution_count": 61,
   "metadata": {},
   "outputs": [
    {
     "name": "stdout",
     "output_type": "stream",
     "text": [
      "Index(['State_Adamawa', 'State_Borno', 'State_Yobe', 'Domain_central borno',\n",
      "       'Domain_central yobe', 'Domain_east borno', 'Domain_mmc and jere',\n",
      "       'Domain_northern adamawa', 'Domain_northern borno',\n",
      "       'Domain_northern yobe', 'Domain_southern adamawa',\n",
      "       'Domain_southern borno', 'Domain_southern yobe',\n",
      "       'Population Group_Internally Displaced Persons (IDPs)',\n",
      "       'Population Group_Non-displaced', 'Population Group_Returnees',\n",
      "       'Respondent Sex_Female', 'Respondent Sex_Male',\n",
      "       'Head of Household Marital Status_Divorced',\n",
      "       'Head of Household Marital Status_Married, more than 1 partner',\n",
      "       'Head of Household Marital Status_Married, only 1 partner',\n",
      "       'Head of Household Marital Status_Single',\n",
      "       'Head of Household Marital Status_Widowed', 'Head of Household - Y/N',\n",
      "       'Respondent Age', 'Head of Household Age', 'Language - English',\n",
      "       'Language - French', 'Number of Household Members',\n",
      "       'Total Household Members 0-6 months old',\n",
      "       'Total Household Members 6 months to 5 years old',\n",
      "       'Vulnerability - None',\n",
      "       'Total Household Members 5 years to 18 years old',\n",
      "       'Total household members over 18 years old', 'Languages in HH'],\n",
      "      dtype='object')\n",
      "100.0\n",
      "      State_Adamawa  State_Borno  State_Yobe  Domain_central borno  \\\n",
      "4663            0.0          0.0         1.0                   0.0   \n",
      "4801            0.0          0.0         1.0                   0.0   \n",
      "\n",
      "      Domain_central yobe  Domain_east borno  Domain_mmc and jere  \\\n",
      "4663                  1.0                0.0                  0.0   \n",
      "4801                  1.0                0.0                  0.0   \n",
      "\n",
      "      Domain_northern adamawa  Domain_northern borno  Domain_northern yobe  \\\n",
      "4663                      0.0                    0.0                   0.0   \n",
      "4801                      0.0                    0.0                   0.0   \n",
      "\n",
      "           ...         Head of Household Age  Language - English  \\\n",
      "4663       ...                           6.0                 1.0   \n",
      "4801       ...                           6.0                 0.0   \n",
      "\n",
      "      Language - French  Number of Household Members  \\\n",
      "4663                0.0                          6.0   \n",
      "4801                0.0                          6.0   \n",
      "\n",
      "      Total Household Members 0-6 months old  \\\n",
      "4663                                     0.0   \n",
      "4801                                     1.0   \n",
      "\n",
      "      Total Household Members 6 months to 5 years old  Vulnerability - None  \\\n",
      "4663                                              0.0                   1.0   \n",
      "4801                                              0.0                   1.0   \n",
      "\n",
      "      Total Household Members 5 years to 18 years old  \\\n",
      "4663                                              2.0   \n",
      "4801                                              1.0   \n",
      "\n",
      "      Total household members over 18 years old  Languages in HH  \n",
      "4663                                        2.0              2.0  \n",
      "4801                                        4.0              1.0  \n",
      "\n",
      "[2 rows x 35 columns]\n",
      "Languages in HH\n"
     ]
    }
   ],
   "source": [
    "print(features)\n",
    "#print(X.iloc[1,:])\n",
    "#print(X.loc[0:20,'Population Group_Internally Displaced Persons (IDPs)':'Population Group_Returnees'].sum(axis = 1))\n",
    "#print(X.loc[250:270,'Domain_central borno':'Domain_southern yobe'].sum(axis = 1))\n",
    "#print(X.loc[350:370,'Head of Household Marital Status_Divorced':'Head of Household Marital Status_Widowed'].sum(axis = 1))\n",
    "print(X.loc[:,'Head of Household Age'].max())\n",
    "print(X.loc[X.loc[:,'Head of Household Age'] == 6, :])\n",
    "#print(X.loc[:,'Total Household Members 6 months to 5 years old'])\n",
    "\n",
    "#print(features[3:13])\n",
    "#print(features[13:16])\n",
    "#print(features[16:18])\n",
    "#print(features[18:23])\n",
    "print(features[34])\n"
   ]
  },
  {
   "cell_type": "code",
   "execution_count": 41,
   "metadata": {},
   "outputs": [
    {
     "name": "stdout",
     "output_type": "stream",
     "text": [
      "81.0\n",
      "94.0\n",
      "10.0\n",
      "0.0\n",
      "20.0\n",
      "29.0\n",
      "6.0\n"
     ]
    }
   ],
   "source": [
    "#For pairwise_dissimilarity function, we have to define global variables\n",
    "#They cannot be given as input, since scipy's pdist function does not allow\n",
    "\n",
    "global_respondent_age_range = X.loc[:,'Respondent Age'].max() - X.loc[:,'Respondent Age'].min()\n",
    "global_head_age_range = X.loc[:,'Head of Household Age'].max() - X.loc[:,'Head of Household Age'].min()\n",
    "\n",
    "#pop1:0-6month, pop2:6 month-5 years, pop3:5-18years, pop4: 18+ years\n",
    "global_pop1_range = X.loc[:,'Total Household Members 0-6 months old'].max() - X.loc[:,'Total Household Members 0-6 months old'].min()\n",
    "global_pop2_range = X.loc[:,'Total Household Members 6 months to 5 years old'].max() - X.loc[:,'Total Household Members 6 months to 5 years old'].min()\n",
    "global_pop3_range = X.loc[:,'Total Household Members 5 years to 18 years old'].max() - X.loc[:,'Total Household Members 5 years to 18 years old'].min()\n",
    "global_pop4_range = X.loc[:,'Total household members over 18 years old'].max() - X.loc[:,'Total household members over 18 years old'].min()\n",
    "\n",
    "global_langHH_range = X.loc[:,'Languages in HH'].max() - X.loc[:,'Languages in HH'].min()\n",
    "\n",
    "\n",
    "\n",
    "\n",
    "\n",
    "print(global_respondent_age_range)\n",
    "print(global_head_age_range)\n",
    "print(global_pop1_range)\n",
    "print(global_pop2_range)\n",
    "print(global_pop3_range)\n",
    "print(global_pop4_range)\n",
    "print(global_langHH_range)\n"
   ]
  },
  {
   "cell_type": "code",
   "execution_count": 8,
   "metadata": {},
   "outputs": [],
   "source": [
    "def pairwise_dissimilarity_sectors(a,b):\n",
    "    return np.sum(np.abs(a-b))"
   ]
  },
  {
   "cell_type": "code",
   "execution_count": 9,
   "metadata": {},
   "outputs": [],
   "source": [
    "dissimilarity_sector = pairwise_distances(severity_arr, Y=None, metric=pairwise_dissimilarity_sectors, n_jobs=1)"
   ]
  },
  {
   "cell_type": "code",
   "execution_count": 10,
   "metadata": {},
   "outputs": [
    {
     "name": "stdout",
     "output_type": "stream",
     "text": [
      "[[    0.   33997.   32310.   54558.   40905.   21010.37 27030.   44908.  ]\n",
      " [33997.       0.   21321.   29449.   22042.   27366.01 23915.   24711.  ]\n",
      " [32310.   21321.       0.   30140.   22769.   26260.05 22408.   25508.  ]\n",
      " [54558.   29449.   30140.       0.   18269.   45038.83 35960.   15108.  ]\n",
      " [40905.   22042.   22769.   18269.       0.   31838.25 25093.   17811.  ]\n",
      " [21010.37 27366.01 26260.05 45038.83 31838.25     0.   20289.71 35075.55]\n",
      " [27030.   23915.   22408.   35960.   25093.   20289.71     0.   25900.  ]\n",
      " [44908.   24711.   25508.   15108.   17811.   35075.55 25900.       0.  ]]\n"
     ]
    }
   ],
   "source": [
    "print(dissimilarity_sector)"
   ]
  },
  {
   "cell_type": "code",
   "execution_count": 42,
   "metadata": {},
   "outputs": [],
   "source": [
    "#Define the pairwise dissimilarity measure\n",
    "def pairwise_dissimilarity(a,b):\n",
    "    total_diff = 0\n",
    "    \n",
    "    #Compare domains \n",
    "    #Explanation: If they are the same, absolute of diff will be 0, otherwise [0..1..0..1....] (there will be two 1s)\n",
    "    diff_domain = np.sum(np.abs(a[3:13] - b[3:13]))/2\n",
    "    total_diff+=diff_domain\n",
    "    \n",
    "    #Compare population\n",
    "    diff_pop = np.sum(np.abs(a[13:16] - b[13:16]))/2\n",
    "    total_diff+=diff_pop\n",
    "    \n",
    "    #Compare respondent sex\n",
    "    diff_sex = np.sum(np.abs(a[16:18] - b[16:18]))/2\n",
    "    total_diff+=diff_sex\n",
    "    \n",
    "    #Compare the marital status of the head\n",
    "    diff_marital = np.sum(np.abs(a[18:23] - b[18:23]))/2\n",
    "    total_diff+=diff_marital\n",
    "    \n",
    "    #Compare if the respondent is head or not\n",
    "    diff_head = np.sum(np.abs(a[23] - b[23]))\n",
    "    total_diff+=diff_head\n",
    "    \n",
    "    #Compare respondent age\n",
    "    diff_resp_age = np.abs(a[24] - b[24])/global_respondent_age_range\n",
    "    total_diff+=diff_resp_age\n",
    "    \n",
    "    #Compare head age\n",
    "    diff_head_age = np.abs(a[25] - b[25])/global_head_age_range\n",
    "    total_diff+=diff_head_age\n",
    "    \n",
    "    #Compare language english\n",
    "    diff_eng = np.abs(a[26] - b[26])\n",
    "    total_diff+=diff_eng\n",
    "    \n",
    "    #Compare language french\n",
    "    diff_fr = np.abs(a[27] - b[27])\n",
    "    total_diff+=diff_fr\n",
    "    \n",
    "    #Compate 0-6 month pop.\n",
    "    diff_pop1 = np.abs(a[29] - b[29])/global_pop1_range\n",
    "    total_diff+=diff_pop1\n",
    "    \n",
    "    #Compate 5-18 years pop.\n",
    "    diff_pop3 = np.abs(a[32] - b[32])/global_pop3_range\n",
    "    total_diff+=diff_pop3\n",
    "    \n",
    "    #Compate 18+ years pop.\n",
    "    diff_pop4 = np.abs(a[33] - b[33])/global_pop4_range\n",
    "    total_diff+=diff_pop4\n",
    "    \n",
    "    #Compare vulnerability\n",
    "    diff_vul = np.abs(a[31] - b[31])\n",
    "    total_diff+=diff_vul\n",
    "    \n",
    "    #Compare languages in HH\n",
    "    diff_langHH = np.abs(a[34] - b[34])/global_langHH_range\n",
    "    total_diff+=diff_langHH\n",
    "    \n",
    "    \n",
    "    return total_diff"
   ]
  },
  {
   "cell_type": "code",
   "execution_count": 43,
   "metadata": {},
   "outputs": [
    {
     "name": "stdout",
     "output_type": "stream",
     "text": [
      "(2000, 2000)\n",
      "CPU times: user 1min 24s, sys: 65.3 ms, total: 1min 24s\n",
      "Wall time: 1min 24s\n"
     ]
    }
   ],
   "source": [
    "%%time\n",
    "#Try pairwise_dissimilarity\n",
    "#Get 2000 random sample\n",
    "sample_indices = random.sample(range(0,X_arr.shape[0]),2000)\n",
    "\n",
    "dissimilarity_ = pairwise_distances(X=X_arr[sample_indices,:], Y=None, metric=pairwise_dissimilarity, n_jobs=1)\n",
    "print(dissimilarity_.shape)"
   ]
  },
  {
   "cell_type": "code",
   "execution_count": 90,
   "metadata": {},
   "outputs": [],
   "source": [
    "#Get corresponding y values\n",
    "y_subsampled = y[sample_indices]"
   ]
  },
  {
   "cell_type": "code",
   "execution_count": 11,
   "metadata": {},
   "outputs": [],
   "source": [
    "#Create Constant Shift Embedding class to apply transformation\n",
    "class ConstantShiftEmbedding(skl.base.BaseEstimator, skl.base.TransformerMixin):\n",
    "    \"\"\"Template class for Constant Shift Embedding (CSE)\n",
    "    \n",
    "    Attributes:\n",
    "        PMAT (np.ndarray): Proximity matrix used for calculating the embeddings.\n",
    "        S (np.ndarray): Similarity matrix.\n",
    "        D (np.ndarray): Dissimilarity matrix.\n",
    "        \n",
    "    \"\"\"\n",
    "    \n",
    "    def __init__(self):\n",
    "        self.Sc_tilde = None\n",
    "        self.D = None\n",
    "        # Add/change parameters, if necessary.\n",
    "    \n",
    "    def fit(self, D):\n",
    "        \"\"\" Calculate similarity/dissimiliarity matrix and all\n",
    "        the necessary variables for calculating the embeddings.\n",
    "        \n",
    "        Args:\n",
    "            PMAT (np.ndarray): proximity matrix\n",
    "        \"\"\"\n",
    "\n",
    "        # Save data\n",
    "        self.D = D\n",
    "        \n",
    "        ## IMPLEMENT THIS METHOD\n",
    "        \n",
    "        #Number of elements\n",
    "        N = self.D.shape[0]\n",
    "        \n",
    "        #Centralizer Q\n",
    "        \n",
    "        Q = np.identity(N) - np.ones((N,N))/N\n",
    "        \n",
    "        #Calculate Dc and Sc\n",
    "        Dc = np.matmul(Q, np.matmul(self.D,Q))\n",
    "        Sc = -Dc/2\n",
    "        \n",
    "        #Find eigenvalue of Sc\n",
    "        w,v = LA.eig(Sc)\n",
    "        eig_min = min(w)\n",
    "        \n",
    "        #Calculate D_0 and D_tilde\n",
    "        D_0 = -2*eig_min\n",
    "        D_tilde = self.D + D_0 * (np.ones((N,N)) - np.identity(N))\n",
    "        \n",
    "        #Calculate Sc_tilde\n",
    "        self.Sc_tilde = -1/2 * np.matmul(Q, np.matmul(D_tilde,Q))\n",
    "        \n",
    "    def get_embedded_vectors(self, p):\n",
    "        \"\"\"Return embeddings\n",
    "        \n",
    "        Args:\n",
    "            p (np.ndarray): cut-off value in eigenspectrum\n",
    "        \n",
    "        Returns:\n",
    "            Xp (np.ndarray): embedded vectors\n",
    "        \n",
    "        \"\"\"\n",
    "        \n",
    "        ## IMPLEMENT THIS METHOD\n",
    "        \n",
    "        #Calculate eigenvalues and vectors\n",
    "        w,v = LA.eig(self.Sc_tilde)\n",
    "        descending_w = np.sort(w)[::-1]\n",
    "        descending_argw = np.argsort(w)[::-1]\n",
    "        \n",
    "        selected_args = descending_argw[0:p];\n",
    "        \n",
    "        V_p = np.take(v, selected_args, axis=1)\n",
    "        Diag_p = np.diag(descending_w[0:p])\n",
    "        \n",
    "        Xp = np.matmul(V_p, fractional_matrix_power(Diag_p, 0.5))\n",
    "        \n",
    "        return Xp\n",
    "        "
   ]
  },
  {
   "cell_type": "code",
   "execution_count": 12,
   "metadata": {},
   "outputs": [],
   "source": [
    "CSE = ConstantShiftEmbedding()"
   ]
  },
  {
   "cell_type": "code",
   "execution_count": 13,
   "metadata": {},
   "outputs": [],
   "source": [
    "CSE.fit(dissimilarity_sector)"
   ]
  },
  {
   "cell_type": "code",
   "execution_count": 15,
   "metadata": {},
   "outputs": [
    {
     "data": {
      "image/png": "[encoded data removed]",
      "text/plain": [
       "<Figure size 432x288 with 1 Axes>"
      ]
     },
     "metadata": {
      "needs_background": "light"
     },
     "output_type": "display_data"
    }
   ],
   "source": [
    "## Compute eigen-spectrum\n",
    "w,v = LA.eig(CSE.Sc_tilde)\n",
    "descending_w = np.sort(w)[::-1]\n",
    "#plt.plot(np.arange(0,len(y_subsampled),1), descending_w)\n",
    "plt.plot(np.arange(0,8,1), descending_w)\n",
    "plt.title(\"Eigen-spectrum\")\n",
    "plt.show()"
   ]
  },
  {
   "cell_type": "code",
   "execution_count": 18,
   "metadata": {},
   "outputs": [
    {
     "name": "stdout",
     "output_type": "stream",
     "text": [
      "Chosen cut-off value is:  2\n"
     ]
    }
   ],
   "source": [
    "## Determine a good cut-off value\n",
    "p_opt = np.argmin(descending_w > 13000) ## change accordingly\n",
    "print(\"Chosen cut-off value is: \", p_opt)"
   ]
  },
  {
   "cell_type": "code",
   "execution_count": 19,
   "metadata": {},
   "outputs": [
    {
     "ename": "NameError",
     "evalue": "name 'y_subsampled' is not defined",
     "output_type": "error",
     "traceback": [
      "\u001b[0;31m---------------------------------------------------------------------------\u001b[0m",
      "\u001b[0;31mNameError\u001b[0m                                 Traceback (most recent call last)",
      "\u001b[0;32m<ipython-input-19-ceea3670a02c>\u001b[0m in \u001b[0;36m<module>\u001b[0;34m()\u001b[0m\n\u001b[1;32m      1\u001b[0m \u001b[0;31m## Plot spectrum and indicate the cut-off value on the spectrum\u001b[0m\u001b[0;34m\u001b[0m\u001b[0;34m\u001b[0m\u001b[0m\n\u001b[0;32m----> 2\u001b[0;31m \u001b[0mplt\u001b[0m\u001b[0;34m.\u001b[0m\u001b[0mplot\u001b[0m\u001b[0;34m(\u001b[0m\u001b[0mnp\u001b[0m\u001b[0;34m.\u001b[0m\u001b[0marange\u001b[0m\u001b[0;34m(\u001b[0m\u001b[0;36m0\u001b[0m\u001b[0;34m,\u001b[0m\u001b[0mlen\u001b[0m\u001b[0;34m(\u001b[0m\u001b[0my_subsampled\u001b[0m\u001b[0;34m)\u001b[0m\u001b[0;34m,\u001b[0m\u001b[0;36m1\u001b[0m\u001b[0;34m)\u001b[0m\u001b[0;34m,\u001b[0m \u001b[0mdescending_w\u001b[0m\u001b[0;34m)\u001b[0m\u001b[0;34m\u001b[0m\u001b[0m\n\u001b[0m\u001b[1;32m      3\u001b[0m \u001b[0mplt\u001b[0m\u001b[0;34m.\u001b[0m\u001b[0mplot\u001b[0m\u001b[0;34m(\u001b[0m\u001b[0;34m[\u001b[0m\u001b[0mp_opt\u001b[0m\u001b[0;34m,\u001b[0m \u001b[0mp_opt\u001b[0m\u001b[0;34m]\u001b[0m\u001b[0;34m,\u001b[0m \u001b[0;34m[\u001b[0m\u001b[0;36m0\u001b[0m\u001b[0;34m,\u001b[0m \u001b[0mnp\u001b[0m\u001b[0;34m.\u001b[0m\u001b[0mmax\u001b[0m\u001b[0;34m(\u001b[0m\u001b[0mdescending_w\u001b[0m\u001b[0;34m)\u001b[0m\u001b[0;34m]\u001b[0m\u001b[0;34m,\u001b[0m \u001b[0;34m'k--'\u001b[0m\u001b[0;34m,\u001b[0m \u001b[0mlw\u001b[0m\u001b[0;34m=\u001b[0m\u001b[0;36m1\u001b[0m\u001b[0;34m)\u001b[0m\u001b[0;34m\u001b[0m\u001b[0m\n\u001b[1;32m      4\u001b[0m \u001b[0mplt\u001b[0m\u001b[0;34m.\u001b[0m\u001b[0mplot\u001b[0m\u001b[0;34m(\u001b[0m\u001b[0;34m[\u001b[0m\u001b[0;36m0\u001b[0m\u001b[0;34m,\u001b[0m \u001b[0mlen\u001b[0m\u001b[0;34m(\u001b[0m\u001b[0my_subsampled\u001b[0m\u001b[0;34m)\u001b[0m\u001b[0;34m-\u001b[0m\u001b[0;36m1\u001b[0m\u001b[0;34m]\u001b[0m\u001b[0;34m,\u001b[0m \u001b[0;34m[\u001b[0m\u001b[0;36m200\u001b[0m\u001b[0;34m,\u001b[0m \u001b[0;36m200\u001b[0m\u001b[0;34m]\u001b[0m\u001b[0;34m,\u001b[0m \u001b[0;34m'k--'\u001b[0m\u001b[0;34m,\u001b[0m \u001b[0mlw\u001b[0m\u001b[0;34m=\u001b[0m\u001b[0;36m1\u001b[0m\u001b[0;34m)\u001b[0m\u001b[0;34m\u001b[0m\u001b[0m\n\u001b[1;32m      5\u001b[0m \u001b[0mplt\u001b[0m\u001b[0;34m.\u001b[0m\u001b[0mtitle\u001b[0m\u001b[0;34m(\u001b[0m\u001b[0;34m\"Eigen-spectrum with cut-off point and its value\"\u001b[0m\u001b[0;34m)\u001b[0m\u001b[0;34m\u001b[0m\u001b[0m\n",
      "\u001b[0;31mNameError\u001b[0m: name 'y_subsampled' is not defined"
     ]
    }
   ],
   "source": [
    "## Plot spectrum and indicate the cut-off value on the spectrum\n",
    "plt.plot(np.arange(0,len(y_subsampled),1), descending_w)\n",
    "plt.plot([p_opt, p_opt], [0, np.max(descending_w)], 'k--', lw=1)\n",
    "plt.plot([0, len(y_subsampled)-1], [200, 200], 'k--', lw=1)\n",
    "plt.title(\"Eigen-spectrum with cut-off point and its value\")\n",
    "plt.show()"
   ]
  },
  {
   "cell_type": "code",
   "execution_count": 129,
   "metadata": {},
   "outputs": [
    {
     "name": "stdout",
     "output_type": "stream",
     "text": [
      "[0 1 2 3 4 5 6 7]\n"
     ]
    }
   ],
   "source": [
    "print(np.unique(y_subsampled))"
   ]
  },
  {
   "cell_type": "code",
   "execution_count": 138,
   "metadata": {},
   "outputs": [
    {
     "name": "stdout",
     "output_type": "stream",
     "text": [
      "For predicted label 0, the histogram of truth label is:\n",
      "(array([10, 22, 47, 46, 41, 15,  2]), array([0, 1, 2, 3, 4, 5, 6, 7]))\n",
      "For predicted label 1, the histogram of truth label is:\n",
      "(array([ 9, 34, 40, 65, 54, 18,  8]), array([0, 1, 2, 3, 4, 5, 6, 7]))\n",
      "For predicted label 2, the histogram of truth label is:\n",
      "(array([11, 25, 61, 70, 52, 33,  2]), array([0, 1, 2, 3, 4, 5, 6, 7]))\n",
      "For predicted label 3, the histogram of truth label is:\n",
      "(array([ 25,  47,  68, 103,  83,  33,   7]), array([0, 1, 2, 3, 4, 5, 6, 7]))\n",
      "For predicted label 4, the histogram of truth label is:\n",
      "(array([ 7, 40, 56, 64, 47, 32,  4]), array([0, 1, 2, 3, 4, 5, 6, 7]))\n",
      "For predicted label 5, the histogram of truth label is:\n",
      "(array([17, 55, 64, 76, 43, 22,  0]), array([0, 1, 2, 3, 4, 5, 6, 7]))\n",
      "For predicted label 6, the histogram of truth label is:\n",
      "(array([ 6, 20, 41, 56, 40,  8,  4]), array([0, 1, 2, 3, 4, 5, 6, 7]))\n",
      "For predicted label 7, the histogram of truth label is:\n",
      "(array([12, 43, 58, 71, 57, 23,  3]), array([0, 1, 2, 3, 4, 5, 6, 7]))\n"
     ]
    },
    {
     "data": {
      "image/png": "[encoded data removed]",
      "text/plain": [
       "<Figure size 504x504 with 1 Axes>"
      ]
     },
     "metadata": {
      "needs_background": "light"
     },
     "output_type": "display_data"
    }
   ],
   "source": [
    "def assignments(truth_labels, predicted_labels):\n",
    "    assignment_vec = np.zeros(len(truth_labels))\n",
    "    for i in np.unique(predicted_labels):\n",
    "        print('For predicted label '+str(i)+', the histogram of truth label is:')\n",
    "        print(np.histogram(truth_labels[predicted_labels == i], bins = np.arange(8)))\n",
    "        assignment = mode(truth_labels[predicted_labels == i])[0]\n",
    "        assignment_vec[predicted_labels == i] = assignment\n",
    "    conf_matrix = confusion_matrix(truth_labels,assignment_vec)\n",
    "    return(conf_matrix)\n",
    "\n",
    "Xp = CSE.get_embedded_vectors(p_opt)\n",
    "Xp = Xp.real\n",
    "kmeans = KMeans(n_clusters=8,random_state=42)\n",
    "kmeans.fit(Xp)\n",
    "labels = kmeans.predict(Xp)\n",
    "\n",
    "conf_matrix = assignments(y_subsampled, labels)\n",
    "\n",
    "fig = plt.figure(figsize=(7,7))\n",
    "ax = fig.add_subplot(111)\n",
    "ax.set_title('Matrix plot of confusion matrix (n_clusters = '+str(8)+')')\n",
    "ax.matshow(conf_matrix)\n",
    "plt.show()"
   ]
  },
  {
   "cell_type": "code",
   "execution_count": 112,
   "metadata": {},
   "outputs": [
    {
     "name": "stdout",
     "output_type": "stream",
     "text": [
      "[ 1.12588372-3.30962570e-33j  0.40000168+5.94403230e-33j\n",
      " -0.42360621-4.49675427e-33j -0.09307679-4.69856052e-33j\n",
      "  0.25906595+5.08876779e-33j -0.53204912+8.20857840e-33j\n",
      "  0.13257064+1.99229072e-32j  0.02742525+9.71101251e-33j\n",
      " -0.09070914+8.98834225e-33j  0.55696222-2.12800842e-33j\n",
      " -0.24106593+1.20767974e-31j -0.00918136+2.58601073e-32j\n",
      " -0.08480045-1.17277375e-32j -0.16637574+4.42874875e-32j\n",
      "  0.09244505+5.02273845e-32j  0.18898874-7.05612133e-32j\n",
      "  0.29875759-1.60330697e-32j -0.0795749 -9.76855070e-33j\n",
      " -0.00315632-2.27302198e-32j -0.01033382-6.95136002e-32j\n",
      " -0.28025509-3.20169759e-32j  0.12127744-7.72130729e-32j\n",
      "  0.06350023+1.65360106e-31j  0.040123  -1.23933692e-31j\n",
      "  0.09336107-8.08264728e-32j -0.06838754+2.53336369e-33j\n",
      " -0.03682514-1.52067184e-31j -0.0747525 +6.46103740e-32j\n",
      " -0.02150985+1.13337956e-28j  0.00532039+8.18877021e-25j]\n"
     ]
    }
   ],
   "source": [
    "print(Xp[1])"
   ]
  },
  {
   "cell_type": "code",
   "execution_count": 123,
   "metadata": {},
   "outputs": [
    {
     "name": "stdout",
     "output_type": "stream",
     "text": [
      "(array([177, 331, 160, 320, 226, 281, 505]), array([0., 1., 2., 3., 4., 5., 6., 7.]))\n",
      "(array([ 97, 286, 435, 551, 417, 184,  30]), array([0., 1., 2., 3., 4., 5., 6., 7.]))\n",
      "[0 1 2 3 4 5 6 7]\n"
     ]
    }
   ],
   "source": [
    "print(np.histogram(labels, bins=7))\n",
    "print(np.histogram(y_subsampled, bins=7))\n",
    "print(np.unique(labels))"
   ]
  },
  {
   "cell_type": "code",
   "execution_count": 34,
   "metadata": {},
   "outputs": [
    {
     "name": "stdout",
     "output_type": "stream",
     "text": [
      "[3 1 1 4 2 6 0 5]\n",
      "Index(['ERL', 'WASH', 'Health', 'Nutrition', 'Education', 'Food',\n",
      "       'Shelter/NFI', 'Protection'],\n",
      "      dtype='object')\n"
     ]
    }
   ],
   "source": [
    "#Cluster the sectors \n",
    "Xp = CSE.get_embedded_vectors(p_opt)\n",
    "Xp = Xp.real\n",
    "kmeans = KMeans(n_clusters=7,random_state=42)\n",
    "kmeans.fit(Xp)\n",
    "labels = kmeans.predict(Xp)\n",
    "print(labels)\n",
    "print(severity.columns)"
   ]
  },
  {
   "cell_type": "markdown",
   "metadata": {},
   "source": [
    "# CLUSTERING OF SECTORS\n",
    "\n",
    "## Cluster 1: WASH, Health\n",
    "## Cluster 2: ERL, Food\n",
    "## Cluster 3: Shelter\n",
    "## Cluster 4: Nutrition, Education, Protection"
   ]
  },
  {
   "cell_type": "code",
   "execution_count": 35,
   "metadata": {},
   "outputs": [
    {
     "data": {
      "text/html": [
       "<div>\n",
       "<style scoped>\n",
       "    .dataframe tbody tr th:only-of-type {\n",
       "        vertical-align: middle;\n",
       "    }\n",
       "\n",
       "    .dataframe tbody tr th {\n",
       "        vertical-align: top;\n",
       "    }\n",
       "\n",
       "    .dataframe thead th {\n",
       "        text-align: right;\n",
       "    }\n",
       "</style>\n",
       "<table border=\"1\" class=\"dataframe\">\n",
       "  <thead>\n",
       "    <tr style=\"text-align: right;\">\n",
       "      <th></th>\n",
       "      <th>ERL</th>\n",
       "      <th>WASH</th>\n",
       "      <th>Health</th>\n",
       "      <th>Nutrition</th>\n",
       "      <th>Education</th>\n",
       "      <th>Food</th>\n",
       "      <th>Shelter/NFI</th>\n",
       "      <th>Protection</th>\n",
       "    </tr>\n",
       "  </thead>\n",
       "  <tbody>\n",
       "    <tr>\n",
       "      <th>0</th>\n",
       "      <td>3.0</td>\n",
       "      <td>4.0</td>\n",
       "      <td>0.0</td>\n",
       "      <td>0.0</td>\n",
       "      <td>0.0</td>\n",
       "      <td>1.33</td>\n",
       "      <td>2</td>\n",
       "      <td>0</td>\n",
       "    </tr>\n",
       "    <tr>\n",
       "      <th>1</th>\n",
       "      <td>2.0</td>\n",
       "      <td>0.0</td>\n",
       "      <td>0.0</td>\n",
       "      <td>0.0</td>\n",
       "      <td>0.0</td>\n",
       "      <td>3.66</td>\n",
       "      <td>4</td>\n",
       "      <td>0</td>\n",
       "    </tr>\n",
       "    <tr>\n",
       "      <th>2</th>\n",
       "      <td>2.0</td>\n",
       "      <td>0.0</td>\n",
       "      <td>0.0</td>\n",
       "      <td>0.0</td>\n",
       "      <td>3.0</td>\n",
       "      <td>3.66</td>\n",
       "      <td>4</td>\n",
       "      <td>0</td>\n",
       "    </tr>\n",
       "    <tr>\n",
       "      <th>3</th>\n",
       "      <td>0.0</td>\n",
       "      <td>0.0</td>\n",
       "      <td>0.0</td>\n",
       "      <td>0.0</td>\n",
       "      <td>0.0</td>\n",
       "      <td>1.66</td>\n",
       "      <td>4</td>\n",
       "      <td>0</td>\n",
       "    </tr>\n",
       "    <tr>\n",
       "      <th>4</th>\n",
       "      <td>0.0</td>\n",
       "      <td>0.0</td>\n",
       "      <td>0.0</td>\n",
       "      <td>0.0</td>\n",
       "      <td>0.0</td>\n",
       "      <td>6.16</td>\n",
       "      <td>2</td>\n",
       "      <td>0</td>\n",
       "    </tr>\n",
       "  </tbody>\n",
       "</table>\n",
       "</div>"
      ],
      "text/plain": [
       "   ERL  WASH  Health  Nutrition  Education  Food  Shelter/NFI  Protection\n",
       "0  3.0   4.0     0.0        0.0        0.0  1.33            2           0\n",
       "1  2.0   0.0     0.0        0.0        0.0  3.66            4           0\n",
       "2  2.0   0.0     0.0        0.0        3.0  3.66            4           0\n",
       "3  0.0   0.0     0.0        0.0        0.0  1.66            4           0\n",
       "4  0.0   0.0     0.0        0.0        0.0  6.16            2           0"
      ]
     },
     "execution_count": 35,
     "metadata": {},
     "output_type": "execute_result"
    }
   ],
   "source": [
    "severity.head()"
   ]
  },
  {
   "cell_type": "code",
   "execution_count": 38,
   "metadata": {},
   "outputs": [
    {
     "data": {
      "text/html": [
       "<div>\n",
       "<style scoped>\n",
       "    .dataframe tbody tr th:only-of-type {\n",
       "        vertical-align: middle;\n",
       "    }\n",
       "\n",
       "    .dataframe tbody tr th {\n",
       "        vertical-align: top;\n",
       "    }\n",
       "\n",
       "    .dataframe thead th {\n",
       "        text-align: right;\n",
       "    }\n",
       "</style>\n",
       "<table border=\"1\" class=\"dataframe\">\n",
       "  <thead>\n",
       "    <tr style=\"text-align: right;\">\n",
       "      <th></th>\n",
       "      <th>ERL</th>\n",
       "      <th>WASH</th>\n",
       "      <th>Health</th>\n",
       "      <th>Nutrition</th>\n",
       "      <th>Education</th>\n",
       "      <th>Food</th>\n",
       "      <th>Shelter/NFI</th>\n",
       "      <th>Protection</th>\n",
       "      <th>C1</th>\n",
       "      <th>C2</th>\n",
       "      <th>C3</th>\n",
       "      <th>C4</th>\n",
       "    </tr>\n",
       "  </thead>\n",
       "  <tbody>\n",
       "    <tr>\n",
       "      <th>0</th>\n",
       "      <td>3.0</td>\n",
       "      <td>4.0</td>\n",
       "      <td>0.0</td>\n",
       "      <td>0.0</td>\n",
       "      <td>0.0</td>\n",
       "      <td>1.33</td>\n",
       "      <td>2</td>\n",
       "      <td>0</td>\n",
       "      <td>2.0</td>\n",
       "      <td>2.165</td>\n",
       "      <td>2</td>\n",
       "      <td>0.666667</td>\n",
       "    </tr>\n",
       "    <tr>\n",
       "      <th>1</th>\n",
       "      <td>2.0</td>\n",
       "      <td>0.0</td>\n",
       "      <td>0.0</td>\n",
       "      <td>0.0</td>\n",
       "      <td>0.0</td>\n",
       "      <td>3.66</td>\n",
       "      <td>4</td>\n",
       "      <td>0</td>\n",
       "      <td>0.0</td>\n",
       "      <td>2.830</td>\n",
       "      <td>4</td>\n",
       "      <td>1.333333</td>\n",
       "    </tr>\n",
       "    <tr>\n",
       "      <th>2</th>\n",
       "      <td>2.0</td>\n",
       "      <td>0.0</td>\n",
       "      <td>0.0</td>\n",
       "      <td>0.0</td>\n",
       "      <td>3.0</td>\n",
       "      <td>3.66</td>\n",
       "      <td>4</td>\n",
       "      <td>0</td>\n",
       "      <td>0.0</td>\n",
       "      <td>2.830</td>\n",
       "      <td>4</td>\n",
       "      <td>2.333333</td>\n",
       "    </tr>\n",
       "    <tr>\n",
       "      <th>3</th>\n",
       "      <td>0.0</td>\n",
       "      <td>0.0</td>\n",
       "      <td>0.0</td>\n",
       "      <td>0.0</td>\n",
       "      <td>0.0</td>\n",
       "      <td>1.66</td>\n",
       "      <td>4</td>\n",
       "      <td>0</td>\n",
       "      <td>0.0</td>\n",
       "      <td>0.830</td>\n",
       "      <td>4</td>\n",
       "      <td>1.333333</td>\n",
       "    </tr>\n",
       "    <tr>\n",
       "      <th>4</th>\n",
       "      <td>0.0</td>\n",
       "      <td>0.0</td>\n",
       "      <td>0.0</td>\n",
       "      <td>0.0</td>\n",
       "      <td>0.0</td>\n",
       "      <td>6.16</td>\n",
       "      <td>2</td>\n",
       "      <td>0</td>\n",
       "      <td>0.0</td>\n",
       "      <td>3.080</td>\n",
       "      <td>2</td>\n",
       "      <td>0.666667</td>\n",
       "    </tr>\n",
       "  </tbody>\n",
       "</table>\n",
       "</div>"
      ],
      "text/plain": [
       "   ERL  WASH  Health  Nutrition  Education  Food  Shelter/NFI  Protection  \\\n",
       "0  3.0   4.0     0.0        0.0        0.0  1.33            2           0   \n",
       "1  2.0   0.0     0.0        0.0        0.0  3.66            4           0   \n",
       "2  2.0   0.0     0.0        0.0        3.0  3.66            4           0   \n",
       "3  0.0   0.0     0.0        0.0        0.0  1.66            4           0   \n",
       "4  0.0   0.0     0.0        0.0        0.0  6.16            2           0   \n",
       "\n",
       "    C1     C2  C3        C4  \n",
       "0  2.0  2.165   2  0.666667  \n",
       "1  0.0  2.830   4  1.333333  \n",
       "2  0.0  2.830   4  2.333333  \n",
       "3  0.0  0.830   4  1.333333  \n",
       "4  0.0  3.080   2  0.666667  "
      ]
     },
     "execution_count": 38,
     "metadata": {},
     "output_type": "execute_result"
    }
   ],
   "source": [
    "severity['C1'] = severity.loc[:,['WASH', 'Health']].sum(axis = 1)/2\n",
    "severity['C2'] = severity.loc[:,['ERL', 'Food']].sum(axis = 1)/2\n",
    "severity['C3'] = severity.loc[:,'Shelter/NFI'].values\n",
    "severity['C4'] = severity.loc[:,['Nutrition', 'Education', 'Shelter/NFI']].sum(axis = 1)/3\n",
    "severity.head()"
   ]
  },
  {
   "cell_type": "code",
   "execution_count": 39,
   "metadata": {},
   "outputs": [
    {
     "name": "stdout",
     "output_type": "stream",
     "text": [
      "[[2.         2.165      2.         0.66666667]\n",
      " [0.         2.83       4.         1.33333333]\n",
      " [0.         2.83       4.         2.33333333]\n",
      " ...\n",
      " [4.         5.995      4.         2.33333333]\n",
      " [2.5        1.         0.         0.        ]\n",
      " [3.5        4.58       6.         2.        ]]\n"
     ]
    },
    {
     "name": "stderr",
     "output_type": "stream",
     "text": [
      "/anaconda3/envs/slt-ce/lib/python3.5/site-packages/ipykernel_launcher.py:1: FutureWarning: Method .as_matrix will be removed in a future version. Use .values instead.\n",
      "  \"\"\"Entry point for launching an IPython kernel.\n"
     ]
    }
   ],
   "source": [
    "cluster_score_matrix = severity.loc[:,['C1', 'C2', 'C3', 'C4']].as_matrix()\n",
    "print(cluster_score_matrix)"
   ]
  },
  {
   "cell_type": "code",
   "execution_count": 44,
   "metadata": {},
   "outputs": [
    {
     "name": "stdout",
     "output_type": "stream",
     "text": [
      "[1 2 2 ... 1 0 2]\n"
     ]
    }
   ],
   "source": [
    "print(np.argmax(cluster_score_matrix, axis=1))\n",
    "y_cluster = np.argmax(cluster_score_matrix, axis=1)\n",
    "y_cluster_subsampled = y_cluster[sample_indices]"
   ]
  },
  {
   "cell_type": "code",
   "execution_count": 45,
   "metadata": {},
   "outputs": [],
   "source": [
    "CSE2 = ConstantShiftEmbedding()\n",
    "CSE2.fit(dissimilarity_)"
   ]
  },
  {
   "cell_type": "code",
   "execution_count": 47,
   "metadata": {},
   "outputs": [
    {
     "name": "stderr",
     "output_type": "stream",
     "text": [
      "/anaconda3/envs/slt-ce/lib/python3.5/site-packages/numpy/core/numeric.py:492: ComplexWarning: Casting complex values to real discards the imaginary part\n",
      "  return array(a, dtype, copy=False, order=order)\n"
     ]
    },
    {
     "data": {
      "image/png": "[encoded data removed]",
      "text/plain": [
       "<Figure size 432x288 with 1 Axes>"
      ]
     },
     "metadata": {
      "needs_background": "light"
     },
     "output_type": "display_data"
    }
   ],
   "source": [
    "## Compute eigen-spectrum\n",
    "w,v = LA.eig(CSE2.Sc_tilde)\n",
    "descending_w = np.sort(w)[::-1]\n",
    "plt.plot(np.arange(0,len(y_cluster_subsampled),1), descending_w)\n",
    "plt.title(\"Eigen-spectrum\")\n",
    "plt.show()"
   ]
  },
  {
   "cell_type": "code",
   "execution_count": 56,
   "metadata": {},
   "outputs": [
    {
     "name": "stdout",
     "output_type": "stream",
     "text": [
      "Chosen cut-off value is:  11\n"
     ]
    }
   ],
   "source": [
    "## Determine a good cut-off value\n",
    "p_opt = np.argmin(descending_w > 100) ## change accordingly\n",
    "print(\"Chosen cut-off value is: \", p_opt)"
   ]
  },
  {
   "cell_type": "code",
   "execution_count": 58,
   "metadata": {},
   "outputs": [
    {
     "data": {
      "image/png": "[encoded data removed]",
      "text/plain": [
       "<Figure size 504x504 with 1 Axes>"
      ]
     },
     "metadata": {
      "needs_background": "light"
     },
     "output_type": "display_data"
    }
   ],
   "source": [
    "def assignments(truth_labels, predicted_labels):\n",
    "    assignment_vec = np.zeros(len(truth_labels))\n",
    "    for i in np.unique(predicted_labels):\n",
    "        #print('For predicted label '+str(i)+', the histogram of truth label is:')\n",
    "        #print(np.histogram(truth_labels[predicted_labels == i], bins = np.arange(8)))\n",
    "        assignment = mode(truth_labels[predicted_labels == i])[0]\n",
    "        assignment_vec[predicted_labels == i] = assignment\n",
    "    conf_matrix = confusion_matrix(truth_labels,assignment_vec)\n",
    "    return(conf_matrix)\n",
    "\n",
    "Xp = CSE2.get_embedded_vectors(p_opt)\n",
    "Xp = Xp.real\n",
    "kmeans = KMeans(n_clusters=4,random_state=42)\n",
    "kmeans.fit(Xp)\n",
    "labels = kmeans.predict(Xp)\n",
    "\n",
    "conf_matrix = assignments(y_cluster_subsampled, labels)\n",
    "\n",
    "fig = plt.figure(figsize=(7,7))\n",
    "ax = fig.add_subplot(111)\n",
    "ax.set_title('Matrix plot of confusion matrix (n_clusters = '+str(8)+')')\n",
    "ax.matshow(conf_matrix)\n",
    "plt.show()"
   ]
  },
  {
   "cell_type": "code",
   "execution_count": 59,
   "metadata": {},
   "outputs": [
    {
     "data": {
      "text/plain": [
       "(array([403,   0,   0, 506,   0,   0, 791,   0,   0, 300]),\n",
       " array([0. , 0.3, 0.6, 0.9, 1.2, 1.5, 1.8, 2.1, 2.4, 2.7, 3. ]))"
      ]
     },
     "execution_count": 59,
     "metadata": {},
     "output_type": "execute_result"
    }
   ],
   "source": [
    "np.histogram(labels)"
   ]
  },
  {
   "cell_type": "code",
   "execution_count": 60,
   "metadata": {},
   "outputs": [
    {
     "data": {
      "text/plain": [
       "(array([ 269,    0,    0, 1270,    0,    0,  424,    0,    0,   37]),\n",
       " array([0. , 0.3, 0.6, 0.9, 1.2, 1.5, 1.8, 2.1, 2.4, 2.7, 3. ]))"
      ]
     },
     "execution_count": 60,
     "metadata": {},
     "output_type": "execute_result"
    }
   ],
   "source": [
    "np.histogram(y_cluster_subsampled)"
   ]
  },
  {
   "cell_type": "code",
   "execution_count": 67,
   "metadata": {},
   "outputs": [
    {
     "data": {
      "image/png": "[encoded data removed]",
      "text/plain": [
       "<Figure size 720x720 with 1 Axes>"
      ]
     },
     "metadata": {
      "needs_background": "light"
     },
     "output_type": "display_data"
    }
   ],
   "source": [
    "sklLLE = SklearnLLE(random_state=42)\n",
    "sklLLE.fit(Xp)\n",
    "fig = plt.figure(figsize=(10,10))\n",
    "ax = fig.add_subplot(111)\n",
    "colors = cm.Set1(np.linspace(0, 1, 4))\n",
    "for prediction in range(4):\n",
    "        idx = (labels == prediction)\n",
    "        plt.scatter(sklLLE.embedding_[idx, 0], sklLLE.embedding_[idx, 1], alpha=.5, label=prediction, c = colors[prediction], s=100)\n",
    "plt.legend()\n",
    "plt.show()"
   ]
  },
  {
   "cell_type": "code",
   "execution_count": 68,
   "metadata": {},
   "outputs": [
    {
     "data": {
      "text/plain": [
       "array([[-0.29055008,  0.34935971, -0.75534517, ...,  0.00980757,\n",
       "         0.01342278,  0.09782458],\n",
       "       [ 0.15124929, -0.0413724 ,  0.91103975, ..., -0.14387808,\n",
       "         0.44559687, -0.0024373 ],\n",
       "       [ 0.34043009, -0.41579249,  0.61935801, ..., -0.00870887,\n",
       "        -0.15057216,  0.07505951],\n",
       "       ...,\n",
       "       [-0.2687805 ,  0.38998316, -0.6693561 , ...,  0.01955114,\n",
       "        -0.05513748, -0.03896232],\n",
       "       [-0.46774063, -0.34938752,  0.66806351, ..., -0.04665352,\n",
       "        -0.21929427, -0.23463823],\n",
       "       [ 0.41276396,  0.30713021, -0.80815621, ...,  0.63543347,\n",
       "         0.14571775, -0.07063519]])"
      ]
     },
     "execution_count": 68,
     "metadata": {},
     "output_type": "execute_result"
    }
   ],
   "source": [
    "Xp"
   ]
  },
  {
   "cell_type": "code",
   "execution_count": 70,
   "metadata": {},
   "outputs": [
    {
     "data": {
      "image/png": "[encoded data removed]",
      "text/plain": [
       "<Figure size 720x720 with 1 Axes>"
      ]
     },
     "metadata": {
      "needs_background": "light"
     },
     "output_type": "display_data"
    }
   ],
   "source": [
    "sklLLE = SklearnLLE(random_state=42, n_components=3)\n",
    "sklLLE.fit(Xp)\n",
    "fig = plt.figure(figsize=(10,10))\n",
    "ax = fig.add_subplot(111, projection='3d')\n",
    "colors = cm.Set1(np.linspace(0, 1, 4))\n",
    "for prediction in range(4):\n",
    "        idx = (labels == prediction)\n",
    "        ax.scatter(sklLLE.embedding_[idx, 0], sklLLE.embedding_[idx, 1], sklLLE.embedding_[idx, 2], alpha=1, label=prediction, c = colors[prediction], s=4)\n",
    "plt.legend()\n",
    "plt.show()"
   ]
  },
  {
   "cell_type": "code",
   "execution_count": null,
   "metadata": {},
   "outputs": [],
   "source": []
  }
 ],
 "metadata": {
  "kernelspec": {
   "display_name": "Python 3",
   "language": "python",
   "name": "python3"
  },
  "language_info": {
   "codemirror_mode": {
    "name": "ipython",
    "version": 3
   },
   "file_extension": ".py",
   "mimetype": "text/x-python",
   "name": "python",
   "nbconvert_exporter": "python",
   "pygments_lexer": "ipython3",
   "version": "3.5.3"
  }
 },
 "nbformat": 4,
 "nbformat_minor": 2
}
